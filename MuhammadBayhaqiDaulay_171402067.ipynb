{
 "cells": [
  {
   "cell_type": "code",
   "execution_count": 57,
   "metadata": {},
   "outputs": [],
   "source": [
    "class Fibonaci:\n",
    "    fibo\n",
    "    max = 0\n",
    "    \n",
    "    def __init__(self,max):\n",
    "        self.fibo = [0] * max\n",
    "        self.max = max\n",
    "        for i in range(max):\n",
    "            if(i==0):\n",
    "                self.fibo[i] = 0\n",
    "            elif(i==1):\n",
    "                self.fibo[i] = 1\n",
    "            else:\n",
    "                self.fibo[i] = self.fibo[i-1]+self.fibo[i-2]\n",
    "     \n",
    "    def tampilFibo(self):\n",
    "        for i in range(self.max):\n",
    "            print(\"Nilai fibonaci dari index ke \", i, \" adalah : \", self.fibo[i])"
   ]
  },
  {
   "cell_type": "code",
   "execution_count": 60,
   "metadata": {},
   "outputs": [],
   "source": [
    "do = Fibonaci(40)"
   ]
  },
  {
   "cell_type": "code",
   "execution_count": 61,
   "metadata": {},
   "outputs": [
    {
     "name": "stdout",
     "output_type": "stream",
     "text": [
      "Nilai fibonaci dari index ke  0  adalah :  0\n",
      "Nilai fibonaci dari index ke  1  adalah :  1\n",
      "Nilai fibonaci dari index ke  2  adalah :  1\n",
      "Nilai fibonaci dari index ke  3  adalah :  2\n",
      "Nilai fibonaci dari index ke  4  adalah :  3\n",
      "Nilai fibonaci dari index ke  5  adalah :  5\n",
      "Nilai fibonaci dari index ke  6  adalah :  8\n",
      "Nilai fibonaci dari index ke  7  adalah :  13\n",
      "Nilai fibonaci dari index ke  8  adalah :  21\n",
      "Nilai fibonaci dari index ke  9  adalah :  34\n",
      "Nilai fibonaci dari index ke  10  adalah :  55\n",
      "Nilai fibonaci dari index ke  11  adalah :  89\n",
      "Nilai fibonaci dari index ke  12  adalah :  144\n",
      "Nilai fibonaci dari index ke  13  adalah :  233\n",
      "Nilai fibonaci dari index ke  14  adalah :  377\n",
      "Nilai fibonaci dari index ke  15  adalah :  610\n",
      "Nilai fibonaci dari index ke  16  adalah :  987\n",
      "Nilai fibonaci dari index ke  17  adalah :  1597\n",
      "Nilai fibonaci dari index ke  18  adalah :  2584\n",
      "Nilai fibonaci dari index ke  19  adalah :  4181\n",
      "Nilai fibonaci dari index ke  20  adalah :  6765\n",
      "Nilai fibonaci dari index ke  21  adalah :  10946\n",
      "Nilai fibonaci dari index ke  22  adalah :  17711\n",
      "Nilai fibonaci dari index ke  23  adalah :  28657\n",
      "Nilai fibonaci dari index ke  24  adalah :  46368\n",
      "Nilai fibonaci dari index ke  25  adalah :  75025\n",
      "Nilai fibonaci dari index ke  26  adalah :  121393\n",
      "Nilai fibonaci dari index ke  27  adalah :  196418\n",
      "Nilai fibonaci dari index ke  28  adalah :  317811\n",
      "Nilai fibonaci dari index ke  29  adalah :  514229\n",
      "Nilai fibonaci dari index ke  30  adalah :  832040\n",
      "Nilai fibonaci dari index ke  31  adalah :  1346269\n",
      "Nilai fibonaci dari index ke  32  adalah :  2178309\n",
      "Nilai fibonaci dari index ke  33  adalah :  3524578\n",
      "Nilai fibonaci dari index ke  34  adalah :  5702887\n",
      "Nilai fibonaci dari index ke  35  adalah :  9227465\n",
      "Nilai fibonaci dari index ke  36  adalah :  14930352\n",
      "Nilai fibonaci dari index ke  37  adalah :  24157817\n",
      "Nilai fibonaci dari index ke  38  adalah :  39088169\n",
      "Nilai fibonaci dari index ke  39  adalah :  63245986\n"
     ]
    }
   ],
   "source": [
    "do.tampilFibo()"
   ]
  },
  {
   "cell_type": "code",
   "execution_count": null,
   "metadata": {},
   "outputs": [],
   "source": []
  }
 ],
 "metadata": {
  "kernelspec": {
   "display_name": "Python 3",
   "language": "python",
   "name": "python3"
  },
  "language_info": {
   "codemirror_mode": {
    "name": "ipython",
    "version": 3
   },
   "file_extension": ".py",
   "mimetype": "text/x-python",
   "name": "python",
   "nbconvert_exporter": "python",
   "pygments_lexer": "ipython3",
   "version": "3.7.2"
  }
 },
 "nbformat": 4,
 "nbformat_minor": 2
}
