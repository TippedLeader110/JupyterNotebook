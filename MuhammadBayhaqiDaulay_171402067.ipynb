{
 "cells": [
  {
   "cell_type": "code",
   "execution_count": 40,
   "metadata": {},
   "outputs": [],
   "source": [
    "class Fibonaci:\n",
    "    fibo = [0]\n",
    "    max = 0\n",
    "    \n",
    "    def __init__(self,max):\n",
    "        self.fibo = [0] * max\n",
    "        self.max = max\n",
    "        self.fiboDo()\n",
    "#         for i in range(max):\n",
    "#             if(i==0):\n",
    "#                 self.fibo[i] = 0\n",
    "#             elif(i==1):\n",
    "#                 self.fibo[i] = 1\n",
    "#             else:\n",
    "#                 self.fibo[i] = self.fibo[i-1]+self.fibo[i-2]\n",
    "    \n",
    "    def fiboDo(self,fb = 0):\n",
    "        if(fb==0):\n",
    "            self.fibo[fb] = fb\n",
    "            fb+=1\n",
    "            self.fiboDo(fb);\n",
    "        if(fb==1):\n",
    "            self.fibo[fb] = fb\n",
    "            fb+=1\n",
    "            self.fiboDo(fb);\n",
    "        else:\n",
    "            if(fb!=self.max):\n",
    "                self.fibo[fb] = self.fibo[fb-1]+self.fibo[fb-2]\n",
    "                fb+=1\n",
    "                self.fiboDo(fb)\n",
    "    \n",
    "    def tampilFibo(self):\n",
    "        for i in range(self.max):\n",
    "            print(str(i+1) + \". Nilai fibonaci dari index ke \", i, \" adalah : \", self.fibo[i])"
   ]
  },
  {
   "cell_type": "code",
   "execution_count": 41,
   "metadata": {},
   "outputs": [],
   "source": [
    "do = Fibonaci(40)"
   ]
  },
  {
   "cell_type": "code",
   "execution_count": 42,
   "metadata": {},
   "outputs": [
    {
     "name": "stdout",
     "output_type": "stream",
     "text": [
      "1. Nilai fibonaci dari index ke  0  adalah :  0\n",
      "2. Nilai fibonaci dari index ke  1  adalah :  1\n",
      "3. Nilai fibonaci dari index ke  2  adalah :  1\n",
      "4. Nilai fibonaci dari index ke  3  adalah :  2\n",
      "5. Nilai fibonaci dari index ke  4  adalah :  3\n",
      "6. Nilai fibonaci dari index ke  5  adalah :  5\n",
      "7. Nilai fibonaci dari index ke  6  adalah :  8\n",
      "8. Nilai fibonaci dari index ke  7  adalah :  13\n",
      "9. Nilai fibonaci dari index ke  8  adalah :  21\n",
      "10. Nilai fibonaci dari index ke  9  adalah :  34\n",
      "11. Nilai fibonaci dari index ke  10  adalah :  55\n",
      "12. Nilai fibonaci dari index ke  11  adalah :  89\n",
      "13. Nilai fibonaci dari index ke  12  adalah :  144\n",
      "14. Nilai fibonaci dari index ke  13  adalah :  233\n",
      "15. Nilai fibonaci dari index ke  14  adalah :  377\n",
      "16. Nilai fibonaci dari index ke  15  adalah :  610\n",
      "17. Nilai fibonaci dari index ke  16  adalah :  987\n",
      "18. Nilai fibonaci dari index ke  17  adalah :  1597\n",
      "19. Nilai fibonaci dari index ke  18  adalah :  2584\n",
      "20. Nilai fibonaci dari index ke  19  adalah :  4181\n",
      "21. Nilai fibonaci dari index ke  20  adalah :  6765\n",
      "22. Nilai fibonaci dari index ke  21  adalah :  10946\n",
      "23. Nilai fibonaci dari index ke  22  adalah :  17711\n",
      "24. Nilai fibonaci dari index ke  23  adalah :  28657\n",
      "25. Nilai fibonaci dari index ke  24  adalah :  46368\n",
      "26. Nilai fibonaci dari index ke  25  adalah :  75025\n",
      "27. Nilai fibonaci dari index ke  26  adalah :  121393\n",
      "28. Nilai fibonaci dari index ke  27  adalah :  196418\n",
      "29. Nilai fibonaci dari index ke  28  adalah :  317811\n",
      "30. Nilai fibonaci dari index ke  29  adalah :  514229\n",
      "31. Nilai fibonaci dari index ke  30  adalah :  832040\n",
      "32. Nilai fibonaci dari index ke  31  adalah :  1346269\n",
      "33. Nilai fibonaci dari index ke  32  adalah :  2178309\n",
      "34. Nilai fibonaci dari index ke  33  adalah :  3524578\n",
      "35. Nilai fibonaci dari index ke  34  adalah :  5702887\n",
      "36. Nilai fibonaci dari index ke  35  adalah :  9227465\n",
      "37. Nilai fibonaci dari index ke  36  adalah :  14930352\n",
      "38. Nilai fibonaci dari index ke  37  adalah :  24157817\n",
      "39. Nilai fibonaci dari index ke  38  adalah :  39088169\n",
      "40. Nilai fibonaci dari index ke  39  adalah :  63245986\n"
     ]
    }
   ],
   "source": [
    "do.tampilFibo()"
   ]
  },
  {
   "cell_type": "code",
   "execution_count": null,
   "metadata": {},
   "outputs": [],
   "source": []
  }
 ],
 "metadata": {
  "kernelspec": {
   "display_name": "Python 3",
   "language": "python",
   "name": "python3"
  },
  "language_info": {
   "codemirror_mode": {
    "name": "ipython",
    "version": 3
   },
   "file_extension": ".py",
   "mimetype": "text/x-python",
   "name": "python",
   "nbconvert_exporter": "python",
   "pygments_lexer": "ipython3",
   "version": "3.7.2"
  }
 },
 "nbformat": 4,
 "nbformat_minor": 2
}
